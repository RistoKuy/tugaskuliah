{
 "cells": [
  {
   "cell_type": "code",
   "execution_count": 1,
   "id": "5e440b2d-f5be-4f7a-82b8-215ffa22ea8f",
   "metadata": {},
   "outputs": [
    {
     "name": "stdout",
     "output_type": "stream",
     "text": [
      "Selamat datang di Aplikasi Perhitungan Nilai Mahasiswa\n"
     ]
    },
    {
     "name": "stdin",
     "output_type": "stream",
     "text": [
      "Silahkan Masukkan Nilai Tugas Anda:  92\n",
      "Silahkan Masukkan Nilai UTS Anda:  83\n",
      "Silahkan Masukkan Nilai UAS Anda:  92\n"
     ]
    },
    {
     "name": "stdout",
     "output_type": "stream",
     "text": [
      "Nilai Akhir Anda : 88.85\n",
      "Dalam Huruf : A\n"
     ]
    }
   ],
   "source": [
    "# Aristo Baadi - 41823010006\n",
    "# Universitas Mercu Buana \n",
    "# Tugas 1 - Pemrograman Lanjut\n",
    "\n",
    "# Intro & Variabel\n",
    "print(\"Selamat datang di Aplikasi Perhitungan Nilai Mahasiswa\")\n",
    "nilai_tugas = float(input(\"Silahkan Masukkan Nilai Tugas Anda: \"))\n",
    "nilai_uts = float(input(\"Silahkan Masukkan Nilai UTS Anda: \"))\n",
    "nilai_uas = float(input(\"Silahkan Masukkan Nilai UAS Anda: \"))\n",
    "\n",
    "# Perhitungan Nilai Akhir\n",
    "nilai_akhir = (nilai_tugas*0.25) + (nilai_uts*0.35) + (nilai_uas*0.40)\n",
    "\n",
    "# Penentuan Nilai dalam Huruf (Grade)\n",
    "if nilai_akhir >= 85 and nilai_akhir <= 100 :\n",
    "    grade = \"A\"\n",
    "elif nilai_akhir >= 80 and nilai_akhir < 85:\n",
    "    grade = \"A-\"\n",
    "elif nilai_akhir >= 75 and nilai_akhir < 80:\n",
    "    grade = \"B+\"\n",
    "elif nilai_akhir >= 70 and nilai_akhir < 75:\n",
    "    grade = \"B\"\n",
    "elif nilai_akhir >= 65 and nilai_akhir < 70:\n",
    "    grade = \"B-\"\n",
    "elif nilai_akhir >= 60 and nilai_akhir < 65:\n",
    "    grade = \"C+\"\n",
    "elif nilai_akhir >= 55 and nilai_akhir < 60:\n",
    "    grade = \"C\"\n",
    "elif nilai_akhir >= 50 and nilai_akhir < 55:\n",
    "    grade = \"C-\"\n",
    "elif nilai_akhir >= 30 and nilai_akhir < 50:\n",
    "    grade = \"D\"\n",
    "elif nilai_akhir < 30 :\n",
    "    grade = \"E\"\n",
    "else :\n",
    "    grade = \"Undefined\"\n",
    "\n",
    "# Menampilkan nilai akhir dan grade\n",
    "print(\"Nilai Akhir Anda :\", nilai_akhir)\n",
    "print(\"Dalam Huruf :\", grade)"
   ]
  },
  {
   "cell_type": "code",
   "execution_count": null,
   "id": "15647964-7402-4a21-bb41-c13a23e848bb",
   "metadata": {},
   "outputs": [],
   "source": []
  }
 ],
 "metadata": {
  "kernelspec": {
   "display_name": "Python 3 (ipykernel)",
   "language": "python",
   "name": "python3"
  },
  "language_info": {
   "codemirror_mode": {
    "name": "ipython",
    "version": 3
   },
   "file_extension": ".py",
   "mimetype": "text/x-python",
   "name": "python",
   "nbconvert_exporter": "python",
   "pygments_lexer": "ipython3",
   "version": "3.12.2"
  }
 },
 "nbformat": 4,
 "nbformat_minor": 5
}
